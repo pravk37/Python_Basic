{
 "cells": [
  {
   "cell_type": "markdown",
   "metadata": {},
   "source": [
    "print(object(s), sep=separator, end=end, file=file, flush=flush)\n",
    "object(s) - Any object, and as many as you like. Will be converted to string before printed\n",
    "sep='separator'\tOptional. Specify how to separate the objects, if there is more than one. Default is ' '\n",
    "end='end'\tOptional. Specify what to print at the end. Default is '\\n' (line feed)\n",
    "file\tOptional. An object with a write method. Default is sys.stdout\n",
    "flush\tOptional. A Boolean, specifying if the output is flushed (True) or buffered (False). Default is False \n"
   ]
  },
  {
   "cell_type": "code",
   "execution_count": 1,
   "metadata": {},
   "outputs": [
    {
     "name": "stdout",
     "output_type": "stream",
     "text": [
      "Hello World\n",
      "Hello World\n"
     ]
    }
   ],
   "source": [
    "'''The print() function can also be used to print objects,\n",
    "which will call the object's __str__ method to get a string representation.'''\n",
    "print('Hello World')\n",
    "print(\"Hello\",\"World\") # ',' in print refers to a single whitespace"
   ]
  },
  {
   "cell_type": "code",
   "execution_count": 2,
   "metadata": {},
   "outputs": [
    {
     "name": "stdout",
     "output_type": "stream",
     "text": [
      "Hello  World\n",
      "Hello\n",
      "World\n"
     ]
    }
   ],
   "source": [
    "'''The sep parameter can be used to specify the separator between arguments instead of the default space'''\n",
    "print(\"Hello\",\"World\",sep='  ')\n",
    "print(\"Hello\",\"World\",sep='\\n')"
   ]
  },
  {
   "cell_type": "code",
   "execution_count": 4,
   "metadata": {},
   "outputs": [
    {
     "name": "stdout",
     "output_type": "stream",
     "text": [
      "Hello 'World\n"
     ]
    }
   ],
   "source": [
    "print(\"Hello \\'World\",sep='  ')\n",
    "#seperated by a whitespace"
   ]
  },
  {
   "cell_type": "code",
   "execution_count": 6,
   "metadata": {},
   "outputs": [
    {
     "name": "stdout",
     "output_type": "stream",
     "text": [
      "\"Hello \"World\n"
     ]
    }
   ],
   "source": [
    "print(\"\\\"Hello \\\"World\") # we use the escape character '\\' to stop the functionality of \" \" while in print function"
   ]
  },
  {
   "cell_type": "code",
   "execution_count": 3,
   "metadata": {},
   "outputs": [
    {
     "name": "stdout",
     "output_type": "stream",
     "text": [
      "HelloWorld\n"
     ]
    }
   ],
   "source": [
    "'''The end parameter can be used to specify what character \n",
    "should be printed at the end of the output instead of the newline character:'''\n",
    "print(\"Hello\",end='')\n",
    "print(\"World\")"
   ]
  },
  {
   "cell_type": "code",
   "execution_count": 7,
   "metadata": {},
   "outputs": [
    {
     "name": "stdout",
     "output_type": "stream",
     "text": [
      "helloworld\n",
      "<class 'str'>\n",
      "<class 'int'>\n",
      "<class 'float'>\n",
      "<class 'bool'>\n"
     ]
    }
   ],
   "source": [
    "x='helloworld'\n",
    "print(x)\n",
    "l=['a',1,2.2,True]\n",
    "for i in l:\n",
    "    print(type(i))"
   ]
  }
 ],
 "metadata": {
  "kernelspec": {
   "display_name": "Python 3",
   "language": "python",
   "name": "python3"
  },
  "language_info": {
   "codemirror_mode": {
    "name": "ipython",
    "version": 3
   },
   "file_extension": ".py",
   "mimetype": "text/x-python",
   "name": "python",
   "nbconvert_exporter": "python",
   "pygments_lexer": "ipython3",
   "version": "3.12.4"
  }
 },
 "nbformat": 4,
 "nbformat_minor": 2
}
